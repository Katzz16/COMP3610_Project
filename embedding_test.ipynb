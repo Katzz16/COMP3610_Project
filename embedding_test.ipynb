{
  "nbformat": 4,
  "nbformat_minor": 0,
  "metadata": {
    "colab": {
      "provenance": []
    },
    "kernelspec": {
      "name": "python3",
      "display_name": "Python 3"
    },
    "language_info": {
      "name": "python"
    }
  },
  "cells": [
    {
      "cell_type": "code",
      "execution_count": null,
      "metadata": {
        "id": "kESi9o9UO095"
      },
      "outputs": [],
      "source": [
        "# Install gensim if you haven't already\n",
        "# !pip install gensim\n",
        "\n",
        "import gensim\n",
        "from gensim.models import Word2Vec\n",
        "from gensim.utils import simple_preprocess\n",
        "import pandas as pd\n",
        "\n",
        "\n",
        "data_path = 'books_dataset.csv'\n",
        "df = pd.read_csv(data_path)\n",
        "\n",
        "\n",
        "processed_descriptions = [simple_preprocess(description) for description in df['description']]\n",
        "\n",
        "# Train Word2Vec model\n",
        "word2vec_model = Word2Vec(sentences=processed_descriptions, vector_size=100, window=5, min_count=1, workers=4)\n",
        "\n",
        "# Save or load the trained model\n",
        "# Save the model\n",
        "word2vec_model.save('book_word2vec_model.bin')\n",
        "\n",
        "# Load the model\n",
        "# word2vec_model = Word2Vec.load('book_word2vec_model.bin')\n",
        "\n",
        "# Example: Finding the most similar books to a given book\n",
        "def recommend_similar_books(book_title, num_books=5):\n",
        "    similar_books = word2vec_model.wv.most_similar(book_title, topn=num_books)\n",
        "    return similar_books\n",
        "\n",
        "# Example: Getting the embedding vector for a word\n",
        "def get_embedding_vector(word):\n",
        "    embedding_vector = word2vec_model.wv[word]\n",
        "    return embedding_vector\n",
        "\n",
        "# Example usage\n",
        "book_title = \"The Great Gatsby\"\n",
        "similar_books = recommend_similar_books(book_title)\n",
        "print(f\"Books most similar to '{book_title}':\")\n",
        "for book, similarity in similar_books:\n",
        "    print(f\"Book: {book}, Similarity: {similarity:.2f}\")\n"
      ]
    }
  ]
}